{
 "cells": [
  {
   "cell_type": "code",
   "execution_count": 1,
   "id": "74643dcd-6081-41f1-8649-c9e662af3fed",
   "metadata": {},
   "outputs": [],
   "source": [
    "import torch; torch.manual_seed(0)\n",
    "import torch.nn as nn\n",
    "import torch.nn.functional as F\n",
    "from torch.utils.data import Dataset, DataLoader\n",
    "import torch.distributions\n",
    "import torchvision\n",
    "\n",
    "from sklearn.neighbors import NearestNeighbors\n",
    "\n",
    "import numpy as np\n",
    "import matplotlib.pyplot as plt; plt.rcParams['figure.dpi'] = 200\n",
    "\n",
    "from path import Path\n",
    "import os\n",
    "import json\n"
   ]
  },
  {
   "cell_type": "code",
   "execution_count": 5,
   "id": "9c768330-0b1c-42c7-bb57-9f1c3fd73cf5",
   "metadata": {},
   "outputs": [
    {
     "data": {
      "text/plain": [
       "'cuda'"
      ]
     },
     "execution_count": 5,
     "metadata": {},
     "output_type": "execute_result"
    }
   ],
   "source": [
    "device = 'cuda' if torch.cuda.is_available() else 'cpu'\n",
    "device"
   ]
  },
  {
   "cell_type": "code",
   "execution_count": 19,
   "id": "b9c242f7-a8df-479a-b28a-bc64470bf1a1",
   "metadata": {},
   "outputs": [],
   "source": [
    "class VAE(nn.Module):\n",
    "    def __init__(self, latent_dims):\n",
    "        super(VAE, self).__init__()\n",
    "        self.latent_dims = latent_dims\n",
    "        self.fc1 = nn.Linear(800, 200)\n",
    "        self.fc21 = nn.Linear(200, latent_dims)\n",
    "        self.fc22 = nn.Linear(200, latent_dims)\n",
    "        \n",
    "        self.relu = nn.ReLU()\n",
    "        self.sigmoid = nn.Sigmoid()\n",
    "        \n",
    "        \n",
    "        self.fc3 = nn.Linear(latent_dims, 200)\n",
    "        self.fc4 = nn.Linear(200, 800)\n",
    "        \n",
    "    def encode(self, x):\n",
    "        x = torch.flatten(x, start_dim=1)\n",
    "        x = self.relu(self.fc1(x))\n",
    "        mu = self.fc21(x)\n",
    "        sigma = self.fc22(x)\n",
    "        return mu, sigma\n",
    "    \n",
    "    #sigma = logvar\n",
    "    def reparameterize(self, mu, sigma):\n",
    "        std = torch.exp(sigma * 0.5)\n",
    "        eps = torch.randn_like(std)\n",
    "        res = eps * std + mu\n",
    "        return res\n",
    "    \n",
    "    \n",
    "    def decode(self, z):\n",
    "        z = self.relu(self.fc3(z))\n",
    "        return self.sigmoid(self.fc4(z))\n",
    "    \n",
    "    def forward(self, x):\n",
    "        mu, sigma = self.encode(x)\n",
    "        z = self.reparameterize(mu, sigma)\n",
    "        return self.decode(z), mu, sigma\n",
    "        "
   ]
  },
  {
   "cell_type": "code",
   "execution_count": 30,
   "id": "1fb64661-7652-41c4-8052-7845b1ef5111",
   "metadata": {},
   "outputs": [],
   "source": [
    "def loss_function(z, x, mu, sigma):\n",
    "    BCE = F.binary_cross_entropy(z, torch.flatten(x, start_dim=1), reduction='sum')\n",
    "    #     BCE = F.binary_cross_entropy(recon_x, x.view(-1, 784), reduction='sum')\n",
    "    KLD_element = (1 + sigma - mu.pow(2) - sigma.exp())\n",
    "    KLD =  -0.5 * torch.sum(KLD_element)\n",
    "    return BCE + KLD"
   ]
  },
  {
   "cell_type": "code",
   "execution_count": 23,
   "id": "ad177f65-88d2-458d-bcb6-04ac7c7b64ec",
   "metadata": {},
   "outputs": [],
   "source": [
    "def train(model, dataloader, epochs=30):\n",
    "    optim = torch.optim.Adam(model.parameters(), lr=0.003)\n",
    "    for epoch in range(epochs):\n",
    "        print(epoch)\n",
    "        model.train()\n",
    "        for i, data, in enumerate(dataloader, 0):\n",
    "            #inputs, kNN = data['points'].to(device).float(), data['KNN'].to(device).int()\n",
    "            inputs = data['points'].to(device).float()\n",
    "            optim.zero_grad()\n",
    "            x_hat, mu, sigma = model(inputs.transpose(1, 2))\n",
    "            loss = loss_function(x_hat, inputs, mu, sigma)\n",
    "            loss.backward()\n",
    "            optim.step()\n"
   ]
  },
  {
   "cell_type": "code",
   "execution_count": 20,
   "id": "80e10314-7eaf-42b9-91b0-87a366a7b480",
   "metadata": {},
   "outputs": [],
   "source": [
    "latent_dims = 5\n",
    "vae = VAE(5).to(device)"
   ]
  },
  {
   "cell_type": "markdown",
   "id": "88fa8fd4-08e0-473b-afa5-633497e4bb2d",
   "metadata": {},
   "source": [
    "# Dataset"
   ]
  },
  {
   "cell_type": "code",
   "execution_count": 10,
   "id": "5aa4b832-7cef-4c4d-9973-59d0c0ffb599",
   "metadata": {},
   "outputs": [],
   "source": [
    "class DRPointData(Dataset):\n",
    "    def __init__(self, root_dir, valid=False):\n",
    "        self.root_dir = root_dir\n",
    "        self.valid = valid\n",
    "        self.files = [_ for _ in os.listdir(root_dir) if _.endswith('.json')]\n",
    "        self.files = self.files[:4000]\n",
    "        \n",
    "    def __len__(self):\n",
    "        return len(self.files)\n",
    "    \n",
    "    def __preproc__(self, file):\n",
    "        with open(file, encoding=\"UTF-8\") as f:\n",
    "            \n",
    "            np_points = np.array(json.load(f, strict=False))\n",
    "            nbrs = NearestNeighbors(n_neighbors=11, algorithm='auto').fit(np_points)\n",
    "            matrix = torch.from_numpy(nbrs.kneighbors_graph(np_points).toarray())\n",
    "            points = torch.from_numpy(np_points)\n",
    "            max_val = torch.max(points, -2).values.view(1, -1)\n",
    "            min_val = torch.min(points, -2).values.view(1, -1)\n",
    "            diff = max_val - min_val \n",
    "            points = (points - min_val) / diff\n",
    "        return {'points': points, #[400, 2]\n",
    "               'KNN':matrix}\n",
    "        \n",
    "    def __getitem__(self, idx):\n",
    "        json_file = os.path.join(self.root_dir, self.files[idx])\n",
    "        item = self.__preproc__(json_file)\n",
    "        return item\n",
    "    \n",
    "    def __filename__(self, idx):\n",
    "        return self.files[idx]\n",
    "        "
   ]
  },
  {
   "cell_type": "code",
   "execution_count": 11,
   "id": "2d649971-eb74-484b-ac2d-0dff846ea524",
   "metadata": {},
   "outputs": [
    {
     "data": {
      "text/plain": [
       "4000"
      ]
     },
     "execution_count": 11,
     "metadata": {},
     "output_type": "execute_result"
    }
   ],
   "source": [
    "path = Path(\"data_0610\")\n",
    "train_dr = DRPointData(path)\n",
    "len(train_dr)"
   ]
  },
  {
   "cell_type": "code",
   "execution_count": 12,
   "id": "c46e5dd4-310b-4637-9930-5c05c35c5d21",
   "metadata": {},
   "outputs": [],
   "source": [
    "dataloader = DataLoader(dataset=train_dr, batch_size=32, drop_last=True)"
   ]
  },
  {
   "cell_type": "markdown",
   "id": "c729b0d1-c3b9-47df-8f92-d78b1be7ff54",
   "metadata": {},
   "source": [
    "# train"
   ]
  },
  {
   "cell_type": "code",
   "execution_count": null,
   "id": "01484a99-973f-44b2-b694-b8e1575cd8a1",
   "metadata": {},
   "outputs": [],
   "source": [
    "vae = train(vae, dataloader, epochs=10)"
   ]
  },
  {
   "cell_type": "code",
   "execution_count": null,
   "id": "42afbea0-c7ec-498b-8d6a-583ca7a83568",
   "metadata": {},
   "outputs": [],
   "source": []
  }
 ],
 "metadata": {
  "kernelspec": {
   "display_name": "Python 3",
   "language": "python",
   "name": "python3"
  },
  "language_info": {
   "codemirror_mode": {
    "name": "ipython",
    "version": 3
   },
   "file_extension": ".py",
   "mimetype": "text/x-python",
   "name": "python",
   "nbconvert_exporter": "python",
   "pygments_lexer": "ipython3",
   "version": "3.8.10"
  }
 },
 "nbformat": 4,
 "nbformat_minor": 5
}
